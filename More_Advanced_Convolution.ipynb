{
 "metadata": {
  "name": "",
  "signature": "sha256:b834bdb009226ffa95236a0aed4f32ec5b76c87476ad07a14a5bd63d6ad1fb76"
 },
 "nbformat": 3,
 "nbformat_minor": 0,
 "worksheets": [
  {
   "cells": [
    {
     "cell_type": "code",
     "collapsed": false,
     "input": [
      "import thinkdsp \n",
      "import thinkplot\n",
      "import numpy \n",
      "import scipy\n",
      "from scipy.io import wavfile"
     ],
     "language": "python",
     "metadata": {},
     "outputs": [],
     "prompt_number": 52
    },
    {
     "cell_type": "code",
     "collapsed": false,
     "input": [
      "#This is the wave recorded by microphones. Assuming the impulse response is something like a loud clap. \n",
      "m_wave = thinkdsp.read_wave('92002__jcveliz__violin-origional.wav')\n",
      "#m_wave.make_audio()\n",
      "m_wave.segment(start = 0.2, duration = 5)\n",
      "m_seg = m_wave.segment(0,2) #| thinkdsp.Wave(numpy.zeros(44100), 44100, 0)\n",
      "m_seg.ys = m_seg.ys[:len(impulse)]\n",
      "m_wave.plot()\n",
      "print(len(m_seg.make_spectrum()))"
     ],
     "language": "python",
     "metadata": {},
     "outputs": [
      {
       "output_type": "stream",
       "stream": "stdout",
       "text": [
        "44101\n"
       ]
      },
      {
       "metadata": {},
       "output_type": "display_data",
       "png": "[encoded data removed]",
       "text": [
        "<matplotlib.figure.Figure at 0x7f60966cca90>"
       ]
      }
     ],
     "prompt_number": 65
    },
    {
     "cell_type": "code",
     "collapsed": false,
     "input": [
      "#this is the recording of the impulse responses. Can be coppied for however long \n",
      "impulse = thinkdsp.read_wave('180961__kleeb__gunshots.wav')\n",
      "impulse.segment(start=0.26, duration = 2)\n",
      "impulse.make_audio()\n",
      "print(len(impulse))"
     ],
     "language": "python",
     "metadata": {},
     "outputs": [
      {
       "output_type": "stream",
       "stream": "stdout",
       "text": [
        "114643\n"
       ]
      }
     ],
     "prompt_number": 54
    },
    {
     "cell_type": "code",
     "collapsed": false,
     "input": [
      "#making the zero window\n",
      "ys = numpy.zeros(44100)\n",
      "zero_wave = thinkdsp.Wave(ys, framerate = 44100, start = 0)"
     ],
     "language": "python",
     "metadata": {},
     "outputs": [],
     "prompt_number": 55
    },
    {
     "cell_type": "code",
     "collapsed": false,
     "input": [
      "imp_spec = impulse.make_spectrum()\n",
      "print(len(imp_spec))"
     ],
     "language": "python",
     "metadata": {},
     "outputs": [
      {
       "output_type": "stream",
       "stream": "stdout",
       "text": [
        "57322\n"
       ]
      }
     ],
     "prompt_number": 56
    },
    {
     "cell_type": "code",
     "collapsed": false,
     "input": [
      "print(int(len(m_wave)/44100))"
     ],
     "language": "python",
     "metadata": {},
     "outputs": [
      {
       "output_type": "stream",
       "stream": "stdout",
       "text": [
        "5\n"
       ]
      }
     ],
     "prompt_number": 57
    },
    {
     "cell_type": "code",
     "collapsed": false,
     "input": [
      "Tiny_waves = numpy.zeros(int(len(m_wave)/44100))\n",
      "for i in range(0, 1):\n",
      "    some_wave = m_wave.segment(start = 0+i, duration = 1)\n",
      "    some_wave.ys = some_wave.ys[:len(impulse)]\n",
      "    some_wave = some_wave | zero_wave\n",
      "    some_wave.normalize()\n",
      "    some_spec = some_wave.make_spectrum()\n",
      "    print(len(imp_spec.hs))\n",
      "    print(len(some_spec.hs))\n",
      "    #out_wave = (some_spec*imp_spec).make_wave()\n",
      "    #out_wave.plot()"
     ],
     "language": "python",
     "metadata": {},
     "outputs": [
      {
       "output_type": "stream",
       "stream": "stdout",
       "text": [
        "57322\n",
        "44101\n"
       ]
      }
     ],
     "prompt_number": 63
    },
    {
     "cell_type": "code",
     "collapsed": false,
     "input": [],
     "language": "python",
     "metadata": {},
     "outputs": [],
     "prompt_number": 58
    }
   ],
   "metadata": {}
  }
 ]
}