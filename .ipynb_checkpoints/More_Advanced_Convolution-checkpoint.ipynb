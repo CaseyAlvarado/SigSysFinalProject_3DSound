{
 "metadata": {
  "name": "",
  "signature": "sha256:4d18073f99abb5376dd11eb0775d4f9758fc8fd472a9b38c706585267fe4b9ab"
 },
 "nbformat": 3,
 "nbformat_minor": 0,
 "worksheets": [
  {
   "cells": [
    {
     "cell_type": "code",
     "collapsed": false,
     "input": [
      "import thinkdsp \n",
      "import thinkplot\n",
      "import numpy \n",
      "import scipy\n",
      "from scipy.io import wavfile\n",
      "import matplotlib.pyplot as plt"
     ],
     "language": "python",
     "metadata": {},
     "outputs": [],
     "prompt_number": 34
    },
    {
     "cell_type": "code",
     "collapsed": false,
     "input": [
      "#this is the recording of the impulse responses. Can be coppied for however long \n",
      "impulse = thinkdsp.read_wave('180961__kleeb__gunshots.wav')\n",
      "impulse.segment(start=0.26, duration = 2)\n",
      "impulse.make_audio()\n",
      "print(len(impulse))"
     ],
     "language": "python",
     "metadata": {},
     "outputs": [
      {
       "output_type": "stream",
       "stream": "stdout",
       "text": [
        "114643\n"
       ]
      }
     ],
     "prompt_number": 4
    },
    {
     "cell_type": "code",
     "collapsed": false,
     "input": [
      "#This is the wave recorded by microphones. Assuming the impulse response is something like a loud clap. \n",
      "m_wave = thinkdsp.read_wave('92002__jcveliz__violin-origional.wav')\n",
      "#m_wave.make_audio()\n",
      "m_wave.segment(start = 0.2, duration = 5)\n",
      "# m_seg = m_wave.segment(0,2) #| thinkdsp.Wave(numpy.zeros(44100), 44100, 0)\n",
      "# m_seg.ys = m_seg.ys[:len(impulse)]\n",
      "m_wave.plot()"
     ],
     "language": "python",
     "metadata": {},
     "outputs": [
      {
       "output_type": "stream",
       "stream": "stdout",
       "text": [
        "44101\n"
       ]
      },
      {
       "metadata": {},
       "output_type": "display_data",
       "png": "[encoded data removed]",
       "text": [
        "<matplotlib.figure.Figure at 0x7fe2ac6b2550>"
       ]
      }
     ],
     "prompt_number": 10
    },
    {
     "cell_type": "code",
     "collapsed": false,
     "input": [
      "#making the zero wave\n",
      "ys = numpy.zeros(44100)\n",
      "zero_wave = thinkdsp.Wave(ys, framerate = 44100, start = 0)"
     ],
     "language": "python",
     "metadata": {},
     "outputs": [],
     "prompt_number": 6
    },
    {
     "cell_type": "code",
     "collapsed": false,
     "input": [
      "imp_spec = impulse.make_spectrum()\n",
      "m_spec = m_seg.make_spectrum()\n",
      "print(len(m_spec))\n",
      "print(len(imp_spec))"
     ],
     "language": "python",
     "metadata": {},
     "outputs": [
      {
       "output_type": "stream",
       "stream": "stdout",
       "text": [
        "44101\n",
        "57322\n"
       ]
      }
     ],
     "prompt_number": 11
    },
    {
     "cell_type": "code",
     "collapsed": false,
     "input": [
      "print(int(len(m_wave)/44100))"
     ],
     "language": "python",
     "metadata": {},
     "outputs": [
      {
       "output_type": "stream",
       "stream": "stdout",
       "text": [
        "5\n"
       ]
      }
     ],
     "prompt_number": 13
    },
    {
     "cell_type": "code",
     "collapsed": false,
     "input": [
      "print(len(imp_spec))"
     ],
     "language": "python",
     "metadata": {},
     "outputs": [
      {
       "output_type": "stream",
       "stream": "stdout",
       "text": [
        "57322\n"
       ]
      }
     ],
     "prompt_number": 21
    },
    {
     "cell_type": "code",
     "collapsed": false,
     "input": [
      "def boxcar(duration): \n",
      "    boxcar = numpy.append(numpy.ones(44100), numpy.zeros(44100)+.000000001)\n",
      "    tiny_box = numpy.append(numpy.ones(50)/50,numpy.zeros(50)+.000000001)\n",
      "    filt1 = numpy.convolve(boxcar, tiny_box)\n",
      "    filt2 = numpy.convolve(filt1, tiny_box)\n",
      "    plt.plot(filt2)\n",
      "    plt.show()\n",
      "    filt_wave = thinkdsp.Wave(filt2, 44100)\n",
      "    filt_wave.segment(0.0, duration)\n",
      "    filt_wave.plot()\n",
      "    return filt_wave"
     ],
     "language": "python",
     "metadata": {},
     "outputs": [],
     "prompt_number": 37
    },
    {
     "cell_type": "code",
     "collapsed": false,
     "input": [
      "# Tiny_waves = numpy.zeros(int(len(m_wave)/44100))\n",
      "for i in range(0, int(len(m_wave)/44100)):\n",
      "    print(i)\n",
      "    some_wave = m_wave.segment(start = 0+i, duration=0.5*len(imp_spec))\n",
      "    some_wave.ys = some_wave.ys[:0.5*len(imp_spec)]\n",
      "#     some_wave = some_wave | zero_wave\n",
      "    some_wave = some_wave * boxcar(2)\n",
      "    some_wave.normalize()\n",
      "    some_spec = some_wave.make_spectrum()\n",
      "    print(len(imp_spec.hs))\n",
      "    print(len(some_spec.hs))\n",
      "    #out_wave = (some_spec*imp_spec).make_wave()\n",
      "    #out_wave.plot()"
     ],
     "language": "python",
     "metadata": {},
     "outputs": [
      {
       "output_type": "stream",
       "stream": "stdout",
       "text": [
        "0\n"
       ]
      },
      {
       "metadata": {},
       "output_type": "display_data",
       "png": "[encoded data removed]",
       "text": [
        "<matplotlib.figure.Figure at 0x7fe2ac8f4650>"
       ]
      },
      {
       "output_type": "stream",
       "stream": "stdout",
       "text": [
        "57322\n",
        "14331\n",
        "1\n"
       ]
      },
      {
       "metadata": {},
       "output_type": "display_data",
       "png": "[encoded data removed]",
       "text": [
        "<matplotlib.figure.Figure at 0x7fe2aba2d110>"
       ]
      },
      {
       "output_type": "stream",
       "stream": "stdout",
       "text": [
        "57322\n",
        "14331\n",
        "2\n"
       ]
      },
      {
       "metadata": {},
       "output_type": "display_data",
       "png": "[encoded data removed]",
       "text": [
        "<matplotlib.figure.Figure at 0x7fe2ac0f76d0>"
       ]
      },
      {
       "output_type": "stream",
       "stream": "stdout",
       "text": [
        "57322\n",
        "14331\n",
        "3\n"
       ]
      },
      {
       "metadata": {},
       "output_type": "display_data",
       "png": "[encoded data removed]",
       "text": [
        "<matplotlib.figure.Figure at 0x7fe2ac545850>"
       ]
      },
      {
       "output_type": "stream",
       "stream": "stdout",
       "text": [
        "57322\n",
        "14331\n",
        "4\n"
       ]
      },
      {
       "metadata": {},
       "output_type": "display_data",
       "png": "[encoded data removed]",
       "text": [
        "<matplotlib.figure.Figure at 0x7fe2ac40aa90>"
       ]
      }
     ]
    },
    {
     "cell_type": "code",
     "collapsed": false,
     "input": [],
     "language": "python",
     "metadata": {},
     "outputs": [],
     "prompt_number": 9
    }
   ],
   "metadata": {}
  }
 ]
}